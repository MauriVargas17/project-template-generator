{
 "cells": [
  {
   "cell_type": "code",
   "execution_count": 1,
   "metadata": {},
   "outputs": [
    {
     "name": "stderr",
     "output_type": "stream",
     "text": [
      "/usr/local/lib/python3.11/site-packages/tqdm/auto.py:21: TqdmWarning: IProgress not found. Please update jupyter and ipywidgets. See https://ipywidgets.readthedocs.io/en/stable/user_install.html\n",
      "  from .autonotebook import tqdm as notebook_tqdm\n",
      "2023-12-02 18:27:33.984189: I tensorflow/core/platform/cpu_feature_guard.cc:182] This TensorFlow binary is optimized to use available CPU instructions in performance-critical operations.\n",
      "To enable the following instructions: AVX2 FMA, in other operations, rebuild TensorFlow with the appropriate compiler flags.\n"
     ]
    }
   ],
   "source": [
    "from transformers import pipeline"
   ]
  },
  {
   "cell_type": "code",
   "execution_count": 2,
   "metadata": {},
   "outputs": [
    {
     "name": "stderr",
     "output_type": "stream",
     "text": [
      "config.json: 100%|██████████| 1.23k/1.23k [00:00<00:00, 529kB/s]\n",
      "pytorch_model.bin: 100%|██████████| 670M/670M [02:04<00:00, 5.37MB/s] \n",
      "tokenizer_config.json: 100%|██████████| 384/384 [00:00<00:00, 1.01MB/s]\n",
      "vocab.txt: 100%|██████████| 872k/872k [00:00<00:00, 3.07MB/s]\n",
      "tokenizer.json: 100%|██████████| 2.56M/2.56M [00:00<00:00, 3.46MB/s]\n",
      "special_tokens_map.json: 100%|██████████| 125/125 [00:00<00:00, 615kB/s]\n"
     ]
    }
   ],
   "source": [
    "#pipe = pipeline(\"text-classification\", model=\"j-hartmann/emotion-english-distilroberta-base\")\n",
    "pipe = pipeline(\"text-classification\", model=\"karina-aquino/spanish-sentiment-model\")"
   ]
  },
  {
   "cell_type": "code",
   "execution_count": 9,
   "metadata": {},
   "outputs": [
    {
     "data": {
      "text/plain": [
       "[{'label': '3 stars', 'score': 0.7173068523406982}]"
      ]
     },
     "execution_count": 9,
     "metadata": {},
     "output_type": "execute_result"
    }
   ],
   "source": [
    "pipe(\"putos\")"
   ]
  },
  {
   "cell_type": "code",
   "execution_count": 43,
   "metadata": {},
   "outputs": [
    {
     "data": {
      "text/plain": [
       "[[{'label': 'positive', 'score': 0.22294668853282928},\n",
       "  {'label': 'negative', 'score': 0.054747626185417175},\n",
       "  {'label': 'neutral', 'score': 0.7223056554794312}]]"
      ]
     },
     "execution_count": 43,
     "metadata": {},
     "output_type": "execute_result"
    }
   ],
   "source": [
    "sentiment_analysis = pipeline(\"text-classification\",model=\"ProsusAI/finbert\", \n",
    "    return_all_scores=True)\n",
    "\n",
    "# Example comments\n",
    "comments = [\n",
    "    \"I love this product! It's amazing.\",\n",
    "    \"This is terrible, I hate it.\",\n",
    "    \"The service was okay, nothing special.\",\n",
    "    \"Fuck them all and make them cry.\",\n",
    "    \"It makes me remember the past.\"\n",
    "]\n",
    "\n",
    "sentiment_analysis(\"you did pretty well I am surprised, since you are always a dumb shitty asshole\")\n",
    "\n",
    "# # Perform sentiment analysis and print the results\n",
    "# for comment in comments:\n",
    "#     result = sentiment_analysis(comment)\n",
    "#     print(f\"Comment: {comment}\")\n",
    "#     print(f\"Sentiment: {result[0]['label']}, Score: {result[0]['score']:.4f}\\n\")"
   ]
  }
 ],
 "metadata": {
  "kernelspec": {
   "display_name": "Python 3",
   "language": "python",
   "name": "python3"
  },
  "language_info": {
   "codemirror_mode": {
    "name": "ipython",
    "version": 3
   },
   "file_extension": ".py",
   "mimetype": "text/x-python",
   "name": "python",
   "nbconvert_exporter": "python",
   "pygments_lexer": "ipython3",
   "version": "3.11.5"
  }
 },
 "nbformat": 4,
 "nbformat_minor": 2
}
